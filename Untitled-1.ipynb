{
 "cells": [
  {
   "cell_type": "code",
   "execution_count": 6,
   "metadata": {},
   "outputs": [
    {
     "name": "stdout",
     "output_type": "stream",
     "text": [
      "59 minutes, 6 seconds \n"
     ]
    }
   ],
   "source": [
    "def time_in_day():\n",
    "    secs = int(input(\"Enter the number of seconds: \"))\n",
    "    days = secs//86400\n",
    "    hours = (secs - days*86400)//3600\n",
    "    minutes = (secs - days*86400 - hours*3600)//60\n",
    "    seconds = secs - days*86400 - hours*3600 - minutes*60\n",
    "    print(\"{} days, \".format(days) if days else \"\" + \n",
    "          (\"{} hours, \".format(hours) if hours else \"\") + \n",
    "            (\"{} minutes, \".format(minutes) if minutes else \"\") + \n",
    "            (\"{} seconds \".format(seconds) if seconds else \"\"))\n",
    "    return\n",
    "\n",
    "time_in_day()"
   ]
  }
 ],
 "metadata": {
  "kernelspec": {
   "display_name": "Python 3",
   "language": "python",
   "name": "python3"
  },
  "language_info": {
   "codemirror_mode": {
    "name": "ipython",
    "version": 3
   },
   "file_extension": ".py",
   "mimetype": "text/x-python",
   "name": "python",
   "nbconvert_exporter": "python",
   "pygments_lexer": "ipython3",
   "version": "3.12.1"
  }
 },
 "nbformat": 4,
 "nbformat_minor": 2
}
